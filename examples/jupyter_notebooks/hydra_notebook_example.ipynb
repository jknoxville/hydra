{
 "cells": [
  {
   "cell_type": "code",
   "execution_count": 1,
   "metadata": {
    "scrolled": true
   },
   "outputs": [],
   "source": [
    "%load_ext autoreload\n",
    "%autoreload 2\n",
    "from hydra.experimental import initialize, compose"
   ]
  },
  {
   "cell_type": "markdown",
   "metadata": {},
   "source": [
    "The config structure is below. the empty `__init__.py` file is needed is needed to help Python file the config files in some scenarios. It is recommended that you always place such a file on your config directory."
   ]
  },
  {
   "cell_type": "code",
   "execution_count": 2,
   "metadata": {},
   "outputs": [
    {
     "name": "stdout",
     "output_type": "stream",
     "text": [
      "\u001b[01;34m.\u001b[00m\r\n",
      "├── \u001b[01;34mconf\u001b[00m\r\n",
      "│   ├── \u001b[01;34mapplication\u001b[00m\r\n",
      "│   │   ├── bananas.yaml\r\n",
      "│   │   └── donkey.yaml\r\n",
      "│   ├── \u001b[01;34mcloud_provider\u001b[00m\r\n",
      "│   │   ├── aws.yaml\r\n",
      "│   │   └── local.yaml\r\n",
      "│   ├── \u001b[01;34mdb\u001b[00m\r\n",
      "│   │   ├── mysql.yaml\r\n",
      "│   │   └── sqlite.yaml\r\n",
      "│   ├── \u001b[01;34menvironment\u001b[00m\r\n",
      "│   │   ├── production.yaml\r\n",
      "│   │   └── testing.yaml\r\n",
      "│   ├── config.yaml\r\n",
      "│   └── __init__.py\r\n",
      "├── hydra_notebook_example.ipynb\r\n",
      "└── README.md\r\n",
      "\r\n",
      "5 directories, 12 files\r\n"
     ]
    }
   ],
   "source": [
    "!tree --dirsfirst"
   ]
  },
  {
   "cell_type": "code",
   "execution_count": 3,
   "metadata": {},
   "outputs": [],
   "source": [
    "initialize(config_path=\"conf\")"
   ]
  },
  {
   "cell_type": "code",
   "execution_count": 4,
   "metadata": {},
   "outputs": [
    {
     "name": "stdout",
     "output_type": "stream",
     "text": [
      "{}\n",
      "\n"
     ]
    }
   ],
   "source": [
    "# Compose empty config (not super useful)\n",
    "cfg=compose()\n",
    "print(cfg.pretty())"
   ]
  },
  {
   "cell_type": "code",
   "execution_count": 5,
   "metadata": {},
   "outputs": [
    {
     "name": "stdout",
     "output_type": "stream",
     "text": [
      "db:\n",
      "  driver: mysql\n",
      "  user: ???\n",
      "  pass: ???\n",
      "\n"
     ]
    }
   ],
   "source": [
    "# Compose a config from scratch\n",
    "# Missing actual user and password as those are environment specific\n",
    "cfg=compose(overrides=[\"+db=mysql\"])\n",
    "print(cfg.pretty())"
   ]
  },
  {
   "cell_type": "code",
   "execution_count": 6,
   "metadata": {},
   "outputs": [
    {
     "name": "stdout",
     "output_type": "stream",
     "text": [
      "db:\n",
      "  driver: mysql\n",
      "  user: mysql\n",
      "  pass: r4Zn*jQ9JB1Rz2kfz\n",
      "donkey:\n",
      "  name: kong\n",
      "  rank: king\n",
      "\n"
     ]
    }
   ],
   "source": [
    "# compose application specific config (in this case the applicaiton is \"donkey\")\n",
    "cfg=compose(overrides= [\"+db=mysql\", \"+environment=production\", \"+application=donkey\"])\n",
    "print(cfg.pretty())"
   ]
  },
  {
   "cell_type": "code",
   "execution_count": 7,
   "metadata": {},
   "outputs": [
    {
     "name": "stdout",
     "output_type": "stream",
     "text": [
      "db:\n",
      "  driver: sqlite\n",
      "  user: test\n",
      "  pass: test\n",
      "  file: test.db\n",
      "cloud:\n",
      "  name: local\n",
      "  host: localhost\n",
      "  port: 9876\n",
      "\n"
     ]
    }
   ],
   "source": [
    "# compose from config.yaml, this composes a bunch of defaults in:\n",
    "cfg=compose(config_name=\"config.yaml\")\n",
    "print(cfg.pretty())"
   ]
  },
  {
   "cell_type": "code",
   "execution_count": 8,
   "metadata": {
    "pycharm": {
     "name": "#%%\n"
    }
   },
   "outputs": [
    {
     "name": "stdout",
     "output_type": "stream",
     "text": [
      "db:\n",
      "  driver: sqlite\n",
      "  user: mysql\n",
      "  pass: r4Zn*jQ9JB1Rz2kfz\n",
      "  file: test.db\n",
      "cloud:\n",
      "  name: aws\n",
      "  api_key: __SOMETHING_FROM_AN_ENV_VARIABLE__\n",
      "  ami_id: MY_AMI_ID\n",
      "\n"
     ]
    }
   ],
   "source": [
    "import os\n",
    "os.environ[\"AWS_API_KEY\"] = \"__SOMETHING_FROM_AN_ENV_VARIABLE__\"\n",
    "\n",
    "# compose from config.yaml and override from the default testing\n",
    "# environment to production and cloud provider to aws.\n",
    "# Also override the ami id\n",
    "\n",
    "cfg=compose(\n",
    "    config_name=\"config.yaml\", \n",
    "    overrides=[\n",
    "        \"cloud_provider=aws\",\n",
    "        \"environment=production\",\n",
    "        \"cloud.ami_id=MY_AMI_ID\",\n",
    "    ]\n",
    ")\n",
    "print(cfg.pretty(resolve=True))"
   ]
  }
 ],
 "metadata": {
  "kernelspec": {
   "display_name": "Python 3",
   "language": "python",
   "name": "python3"
  },
  "language_info": {
   "codemirror_mode": {
    "name": "ipython",
    "version": 3
   },
   "file_extension": ".py",
   "mimetype": "text/x-python",
   "name": "python",
   "nbconvert_exporter": "python",
   "pygments_lexer": "ipython3",
   "version": "3.8.2"
  }
 },
 "nbformat": 4,
 "nbformat_minor": 2
}
